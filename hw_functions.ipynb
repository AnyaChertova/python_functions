{
 "cells": [
  {
   "cell_type": "code",
   "execution_count": 2,
   "metadata": {},
   "outputs": [],
   "source": [
    "documents = [\n",
    " {'type': 'passport', 'number': '2207 876234', 'name': 'Василий Гупкин'},\n",
    " {'type': 'invoice', 'number': '11-2', 'name': 'Геннадий Покемонов'},\n",
    " {'type': 'insurance', 'number': '10006', 'name': 'Аристарх Павлов'}\n",
    "]\n",
    "\n",
    "directories = {\n",
    "    '1': ['2207 876234', '11-2'], \n",
    "    '2': ['10006'], \n",
    "    '3': [] \n",
    "}  "
   ]
  },
  {
   "cell_type": "code",
   "execution_count": 3,
   "metadata": {},
   "outputs": [],
   "source": [
    "def doc_owner(documents):\n",
    "    input_num = input('Введите номер:')\n",
    "    name_owner = ''\n",
    "    for element in documents:\n",
    "        if input_num == element['number']:\n",
    "            return print(f'Владелец документа:', element['name'])   \n",
    "    print('нет такого документа')\n",
    "\n",
    "# doc_owner(documents)  "
   ]
  },
  {
   "cell_type": "code",
   "execution_count": null,
   "metadata": {},
   "outputs": [],
   "source": [
    "def num_dir(directories):\n",
    "    input_num_dir = input('Введите номер:')\n",
    "    for key, dir_ in directories.items():\n",
    "        for el in dir_:\n",
    "            if input_num_dir == el:\n",
    "                return print(f'Документ хранится на полке: {key}')         \n",
    "    print(f'Документ не найден в базе')               \n",
    "num_dir(directories)              "
   ]
  },
  {
   "cell_type": "code",
   "execution_count": 5,
   "metadata": {},
   "outputs": [],
   "source": [
    "def all_info(documents, directories):\n",
    "    for el in documents:\n",
    "        doc_num = el['number']\n",
    "        doc_type = el['type']\n",
    "        doc_name = el['name']\n",
    "        for shelf, num_ in directories.items():\n",
    "             if doc_num in num_:\n",
    "                num_shelf = shelf\n",
    "                print(f'№: {doc_num}, тип: {doc_type},  владелец: {doc_name}, полка хранения: {num_shelf}') \n",
    "\n",
    "# all_info(documents, directories)               "
   ]
  },
  {
   "cell_type": "code",
   "execution_count": 6,
   "metadata": {},
   "outputs": [],
   "source": [
    "def new_shelf(directories):\n",
    "    input_new_shelf = input('Введите номер полки:')\n",
    "    shelves = list(directories.keys()) \n",
    "    if input_new_shelf in list(directories.keys()):\n",
    "        return print(f'Такая полка уже существует. Текущий перечень полок: {\" \".join(shelves)}')\n",
    "    else:\n",
    "        directories[input_new_shelf] = []\n",
    "        shelves.append(input_new_shelf)           \n",
    "        print(f'Полка добавлена. Текущий перечень полок: {\" \".join(shelves)}')\n",
    "\n",
    "# new_shelf(directories)"
   ]
  },
  {
   "cell_type": "code",
   "execution_count": 7,
   "metadata": {},
   "outputs": [],
   "source": [
    "def del_shelf(directories):\n",
    "    directories2 = directories.copy()\n",
    "    input_del_shelf = input('Введите номер полки:')\n",
    "    cur_shelves = list(directories.keys())\n",
    "    for shelves_ in directories2.keys():\n",
    "        if input_del_shelf in shelves_ and (len(directories2[input_del_shelf])!=0):\n",
    "            return print(f\"На полке есть документ, удалите его перед удалением полки. Текущий перечень полок: {', '.join(cur_shelves)}\")\n",
    "        elif input_del_shelf in shelves_ and (len(directories2[input_del_shelf])== 0):\n",
    "            del(directories[input_del_shelf])\n",
    "            cur_shelves.remove(input_del_shelf)\n",
    "            return print(f\"Полка удалена. Текущий перечень полок: {', '.join(cur_shelves)}\")\n",
    "    print(f\"Такой полки не существует. Текущий перечень полок: {', '.join(cur_shelves)}\")\n",
    "    \n",
    "# del_shelf(directories)    "
   ]
  },
  {
   "cell_type": "code",
   "execution_count": 8,
   "metadata": {},
   "outputs": [],
   "source": [
    "def user_input (documents, directories):\n",
    "    print('\\n' 'Список команд:'\n",
    "              '\\n' 'p   - найти сотрудника по номеру документа'\n",
    "              '\\n' 's   - найти на какой полке документ'\n",
    "              '\\n' 'l   - полная информация по всем документам'\n",
    "              '\\n' 'ads - добавить новую полку'\n",
    "              '\\n' 'ds  - удалить полку'\n",
    "              '\\n' 'q   - выйти из программы'\n",
    "              '\\n' ' '\n",
    ")\n",
    "    while True:\n",
    "        user_input = input('Введите команду: ')\n",
    "        if user_input == 'p':\n",
    "            print(doc_owner(documents))\n",
    "        elif user_input == 's':\n",
    "            print(num_dir(directories))\n",
    "        elif user_input == 'l':\n",
    "            print(all_info(documents, directories))\n",
    "        elif user_input == 'ads':\n",
    "            print(new_shelf(directories))\n",
    "        elif user_input == 'ds':\n",
    "            print(del_shelf(directories))    \n",
    "        elif user_input == 'q':\n",
    "            print('Вы вышли из программы')\n",
    "            break\n",
    "        else:\n",
    "            print('Введена неверная команда')\n",
    "            "
   ]
  },
  {
   "cell_type": "code",
   "execution_count": 9,
   "metadata": {},
   "outputs": [
    {
     "name": "stdout",
     "output_type": "stream",
     "text": [
      "\n",
      "Список команд:\n",
      "p   - найти сотрудника по номеру документа\n",
      "s   - найти на какой полке документ\n",
      "l   - полная информация по всем документам\n",
      "ads - добавить новую полку\n",
      "ds  - удалить полку\n",
      "q   - выйти из программы\n",
      " \n",
      "Введите команду: s\n",
      "Введите номер:4\n",
      "Документ не найден в базе\n",
      "None\n",
      "Введите команду: l\n",
      "№: 2207 876234, тип: passport,  владелец: Василий Гупкин, полка хранения: 1\n",
      "№: 11-2, тип: invoice,  владелец: Геннадий Покемонов, полка хранения: 1\n",
      "№: 10006, тип: insurance,  владелец: Аристарх Павлов, полка хранения: 2\n",
      "None\n",
      "Введите команду: ads\n",
      "Введите номер полки:6\n",
      "Полка добавлена. Текущий перечень полок: 1 2 3 6\n",
      "None\n",
      "Введите команду: 6\n",
      "Введена неверная команда\n",
      "Введите команду: ds\n",
      "Введите номер полки:6\n",
      "Полка удалена. Текущий перечень полок: 1, 2, 3\n",
      "None\n",
      "Введите команду: ds\n",
      "Введите номер полки:2\n",
      "На полке есть документ, удалите их перед удалением полки. Текущий перечень полок: 1, 2, 3\n",
      "None\n",
      "Введите команду: вы\n",
      "Введена неверная команда\n",
      "Введите команду: ds\n",
      "Введите номер полки:2\n",
      "На полке есть документ, удалите их перед удалением полки. Текущий перечень полок: 1, 2, 3\n",
      "None\n",
      "Введите команду: q\n",
      "Вы вышли из программы\n"
     ]
    }
   ],
   "source": [
    "user_input(documents, directories)"
   ]
  },
  {
   "cell_type": "code",
   "execution_count": null,
   "metadata": {},
   "outputs": [],
   "source": []
  }
 ],
 "metadata": {
  "kernelspec": {
   "display_name": "Python 3",
   "language": "python",
   "name": "python3"
  },
  "language_info": {
   "codemirror_mode": {
    "name": "ipython",
    "version": 3
   },
   "file_extension": ".py",
   "mimetype": "text/x-python",
   "name": "python",
   "nbconvert_exporter": "python",
   "pygments_lexer": "ipython3",
   "version": "3.7.6"
  }
 },
 "nbformat": 4,
 "nbformat_minor": 4
}
